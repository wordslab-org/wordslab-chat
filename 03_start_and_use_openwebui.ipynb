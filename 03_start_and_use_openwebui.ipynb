{
 "cells": [
  {
   "cell_type": "markdown",
   "id": "5f6f9238-6e74-4b33-9e93-634fedd52e3f",
   "metadata": {},
   "source": [
    "# Start and use Open WebUI"
   ]
  },
  {
   "cell_type": "markdown",
   "id": "30b8d995-7099-4cab-a6cf-956bedc55517",
   "metadata": {
    "execution": {
     "iopub.execute_input": "2024-10-09T23:55:12.896202Z",
     "iopub.status.busy": "2024-10-09T23:55:12.895495Z",
     "iopub.status.idle": "2024-10-09T23:55:12.900007Z",
     "shell.execute_reply": "2024-10-09T23:55:12.899296Z",
     "shell.execute_reply.started": "2024-10-09T23:55:12.896158Z"
    }
   },
   "source": [
    "## Start the local servers"
   ]
  },
  {
   "cell_type": "code",
   "execution_count": null,
   "id": "8f70ee39-5be8-44be-863e-a3d07b5a3a13",
   "metadata": {},
   "outputs": [],
   "source": [
    "import os\n",
    "import subprocess\n",
    "\n",
    "# Configure ollama server\n",
    "env = os.environ.copy()\n",
    "env[\"OLLAMA_HOST\"]=\"0.0.0.0\"\n",
    "env[\"OLLAMA_ORIGINS\"]=\"*\"\n",
    "env[\"OLLAMA_MODELS\"]=\"/models/ollama\"\n",
    "env[\"OLLAMA_FLASH_ATTENTION\"]=\"1\"\n",
    "\n",
    "# Start ollama server in the background\n",
    "process = subprocess.Popen(['ollama', 'serve'], env=env)"
   ]
  },
  {
   "cell_type": "code",
   "execution_count": null,
   "id": "41512922-8465-47e3-8b67-dd993bf3c561",
   "metadata": {},
   "outputs": [],
   "source": [
    "!docker start open-webui"
   ]
  },
  {
   "cell_type": "markdown",
   "id": "1763cfa8-fc15-4cbf-8605-93763ac73ba1",
   "metadata": {},
   "source": [
    "## Use Open WebUI"
   ]
  },
  {
   "cell_type": "markdown",
   "id": "c722bc90-6b10-4c19-bedb-fa30c8dec1c9",
   "metadata": {},
   "source": [
    "Open your browser to the following URL\n",
    "\n",
    "http://localhost:3000"
   ]
  },
  {
   "cell_type": "markdown",
   "id": "01d77155-b473-4207-871a-446fc7826dc7",
   "metadata": {},
   "source": [
    "## Stop the local servers"
   ]
  },
  {
   "cell_type": "code",
   "execution_count": 3,
   "id": "bf9ff02e-c82e-4593-bfa4-d78c68e62cf2",
   "metadata": {
    "execution": {
     "iopub.execute_input": "2024-10-13T11:34:38.670712Z",
     "iopub.status.busy": "2024-10-13T11:34:38.670282Z",
     "iopub.status.idle": "2024-10-13T11:34:42.845499Z",
     "shell.execute_reply": "2024-10-13T11:34:42.844825Z",
     "shell.execute_reply.started": "2024-10-13T11:34:38.670583Z"
    }
   },
   "outputs": [
    {
     "name": "stdout",
     "output_type": "stream",
     "text": [
      "open-webui\n"
     ]
    }
   ],
   "source": [
    "!docker stop open-webui"
   ]
  },
  {
   "cell_type": "code",
   "execution_count": 4,
   "id": "f4b95c38-dc9d-4a48-81ea-510c816b9674",
   "metadata": {
    "execution": {
     "iopub.execute_input": "2024-10-13T11:34:43.498764Z",
     "iopub.status.busy": "2024-10-13T11:34:43.498493Z",
     "iopub.status.idle": "2024-10-13T11:34:44.377973Z",
     "shell.execute_reply": "2024-10-13T11:34:44.377327Z",
     "shell.execute_reply.started": "2024-10-13T11:34:43.498741Z"
    }
   },
   "outputs": [
    {
     "data": {
      "text/plain": [
       "0"
      ]
     },
     "execution_count": 4,
     "metadata": {},
     "output_type": "execute_result"
    }
   ],
   "source": [
    "import signal\n",
    "\n",
    "os.kill(process.pid, signal.SIGINT)\n",
    "process.wait() "
   ]
  },
  {
   "cell_type": "code",
   "execution_count": null,
   "id": "82e11b2a-6a12-4c5a-a79c-d47a7e46a1b3",
   "metadata": {},
   "outputs": [],
   "source": []
  }
 ],
 "metadata": {
  "kernelspec": {
   "display_name": "wordslab-chat",
   "language": "python",
   "name": "wordslab-chat"
  },
  "language_info": {
   "codemirror_mode": {
    "name": "ipython",
    "version": 3
   },
   "file_extension": ".py",
   "mimetype": "text/x-python",
   "name": "python",
   "nbconvert_exporter": "python",
   "pygments_lexer": "ipython3",
   "version": "3.12.7"
  }
 },
 "nbformat": 4,
 "nbformat_minor": 5
}
